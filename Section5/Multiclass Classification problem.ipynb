{
 "cells": [
  {
   "cell_type": "code",
   "execution_count": 1,
   "metadata": {},
   "outputs": [],
   "source": [
    "import pandas as pd\n",
    "from sklearn import preprocessing\n",
    "from sklearn.metrics import confusion_matrix\n",
    "from sklearn.model_selection import train_test_split\n",
    "from sklearn import metrics\n",
    "from sklearn.preprocessing import OrdinalEncoder\n",
    "from sklearn.metrics import confusion_matrix, classification_report\n",
    "from sklearn.feature_selection import SelectKBest, chi2\n"
   ]
  },
  {
   "cell_type": "code",
   "execution_count": 2,
   "metadata": {},
   "outputs": [
    {
     "data": {
      "text/html": [
       "<div>\n",
       "<style scoped>\n",
       "    .dataframe tbody tr th:only-of-type {\n",
       "        vertical-align: middle;\n",
       "    }\n",
       "\n",
       "    .dataframe tbody tr th {\n",
       "        vertical-align: top;\n",
       "    }\n",
       "\n",
       "    .dataframe thead th {\n",
       "        text-align: right;\n",
       "    }\n",
       "</style>\n",
       "<table border=\"1\" class=\"dataframe\">\n",
       "  <thead>\n",
       "    <tr style=\"text-align: right;\">\n",
       "      <th></th>\n",
       "      <th>buying</th>\n",
       "      <th>maint</th>\n",
       "      <th>doors</th>\n",
       "      <th>persons</th>\n",
       "      <th>lug_boot</th>\n",
       "      <th>safety</th>\n",
       "      <th>class value</th>\n",
       "    </tr>\n",
       "  </thead>\n",
       "  <tbody>\n",
       "    <tr>\n",
       "      <th>0</th>\n",
       "      <td>vhigh</td>\n",
       "      <td>vhigh</td>\n",
       "      <td>2</td>\n",
       "      <td>2</td>\n",
       "      <td>small</td>\n",
       "      <td>low</td>\n",
       "      <td>unacc</td>\n",
       "    </tr>\n",
       "    <tr>\n",
       "      <th>1</th>\n",
       "      <td>vhigh</td>\n",
       "      <td>vhigh</td>\n",
       "      <td>2</td>\n",
       "      <td>2</td>\n",
       "      <td>small</td>\n",
       "      <td>med</td>\n",
       "      <td>unacc</td>\n",
       "    </tr>\n",
       "    <tr>\n",
       "      <th>2</th>\n",
       "      <td>vhigh</td>\n",
       "      <td>vhigh</td>\n",
       "      <td>2</td>\n",
       "      <td>2</td>\n",
       "      <td>small</td>\n",
       "      <td>high</td>\n",
       "      <td>unacc</td>\n",
       "    </tr>\n",
       "    <tr>\n",
       "      <th>3</th>\n",
       "      <td>vhigh</td>\n",
       "      <td>vhigh</td>\n",
       "      <td>2</td>\n",
       "      <td>2</td>\n",
       "      <td>med</td>\n",
       "      <td>low</td>\n",
       "      <td>unacc</td>\n",
       "    </tr>\n",
       "    <tr>\n",
       "      <th>4</th>\n",
       "      <td>vhigh</td>\n",
       "      <td>vhigh</td>\n",
       "      <td>2</td>\n",
       "      <td>2</td>\n",
       "      <td>med</td>\n",
       "      <td>med</td>\n",
       "      <td>unacc</td>\n",
       "    </tr>\n",
       "  </tbody>\n",
       "</table>\n",
       "</div>"
      ],
      "text/plain": [
       "  buying  maint doors persons lug_boot safety class value\n",
       "0  vhigh  vhigh     2       2    small    low       unacc\n",
       "1  vhigh  vhigh     2       2    small    med       unacc\n",
       "2  vhigh  vhigh     2       2    small   high       unacc\n",
       "3  vhigh  vhigh     2       2      med    low       unacc\n",
       "4  vhigh  vhigh     2       2      med    med       unacc"
      ]
     },
     "execution_count": 2,
     "metadata": {},
     "output_type": "execute_result"
    }
   ],
   "source": [
    "#read data file\n",
    "\n",
    "headers=['buying', 'maint', 'doors', 'persons', 'lug_boot', 'safety','class value']\n",
    "df= pd.read_csv(r'dataset/car.data', names=headers)\n",
    "df.head()"
   ]
  },
  {
   "cell_type": "markdown",
   "metadata": {},
   "source": [
    "# Data Exploration"
   ]
  },
  {
   "cell_type": "code",
   "execution_count": 3,
   "metadata": {},
   "outputs": [
    {
     "name": "stdout",
     "output_type": "stream",
     "text": [
      "<class 'pandas.core.frame.DataFrame'>\n",
      "RangeIndex: 1728 entries, 0 to 1727\n",
      "Data columns (total 7 columns):\n",
      " #   Column       Non-Null Count  Dtype \n",
      "---  ------       --------------  ----- \n",
      " 0   buying       1728 non-null   object\n",
      " 1   maint        1728 non-null   object\n",
      " 2   doors        1728 non-null   object\n",
      " 3   persons      1728 non-null   object\n",
      " 4   lug_boot     1728 non-null   object\n",
      " 5   safety       1728 non-null   object\n",
      " 6   class value  1728 non-null   object\n",
      "dtypes: object(7)\n",
      "memory usage: 94.6+ KB\n"
     ]
    }
   ],
   "source": [
    "#1728 records in total and no Null Values\n",
    "df.info()"
   ]
  },
  {
   "cell_type": "code",
   "execution_count": 4,
   "metadata": {},
   "outputs": [
    {
     "name": "stdout",
     "output_type": "stream",
     "text": [
      "-------buying----------\n",
      "vhigh    432\n",
      "high     432\n",
      "med      432\n",
      "low      432\n",
      "Name: buying, dtype: int64\n",
      "\n",
      "\n",
      "-------maint----------\n",
      "vhigh    432\n",
      "high     432\n",
      "med      432\n",
      "low      432\n",
      "Name: maint, dtype: int64\n",
      "\n",
      "\n",
      "-------doors----------\n",
      "2        432\n",
      "3        432\n",
      "4        432\n",
      "5more    432\n",
      "Name: doors, dtype: int64\n",
      "\n",
      "\n",
      "-------persons----------\n",
      "2       576\n",
      "4       576\n",
      "more    576\n",
      "Name: persons, dtype: int64\n",
      "\n",
      "\n",
      "-------lug_boot----------\n",
      "small    576\n",
      "med      576\n",
      "big      576\n",
      "Name: lug_boot, dtype: int64\n",
      "\n",
      "\n",
      "-------safety----------\n",
      "low     576\n",
      "med     576\n",
      "high    576\n",
      "Name: safety, dtype: int64\n",
      "\n",
      "\n",
      "-------class value----------\n",
      "unacc    1210\n",
      "acc       384\n",
      "good       69\n",
      "vgood      65\n",
      "Name: class value, dtype: int64\n",
      "\n",
      "\n"
     ]
    }
   ],
   "source": [
    "#check for imbalanced dataset and invalid values\n",
    "#overall dataset is pretty well balanced, espeically since we are predicting the buying_price\n",
    "\n",
    "for h in headers:\n",
    "    print(f\"-------{h}----------\")\n",
    "    print(df[h].value_counts())\n",
    "    df[h]\n",
    "    print(\"\\n\")\n"
   ]
  },
  {
   "cell_type": "code",
   "execution_count": 5,
   "metadata": {},
   "outputs": [
    {
     "name": "stdout",
     "output_type": "stream",
     "text": [
      "<class 'pandas.core.frame.DataFrame'>\n",
      "RangeIndex: 1728 entries, 0 to 1727\n",
      "Data columns (total 7 columns):\n",
      " #   Column       Non-Null Count  Dtype \n",
      "---  ------       --------------  ----- \n",
      " 0   buying       1728 non-null   object\n",
      " 1   maint        1728 non-null   object\n",
      " 2   doors        1728 non-null   object\n",
      " 3   persons      1728 non-null   object\n",
      " 4   lug_boot     1728 non-null   object\n",
      " 5   safety       1728 non-null   object\n",
      " 6   class value  1728 non-null   object\n",
      "dtypes: object(7)\n",
      "memory usage: 94.6+ KB\n"
     ]
    }
   ],
   "source": [
    "df.info()"
   ]
  },
  {
   "cell_type": "code",
   "execution_count": 6,
   "metadata": {},
   "outputs": [
    {
     "data": {
      "text/plain": [
       "Index(['buying', 'maint', 'doors', 'persons', 'lug_boot', 'safety',\n",
       "       'class value'],\n",
       "      dtype='object')"
      ]
     },
     "execution_count": 6,
     "metadata": {},
     "output_type": "execute_result"
    }
   ],
   "source": [
    "df.columns"
   ]
  },
  {
   "cell_type": "markdown",
   "metadata": {},
   "source": [
    "# Data Preparation"
   ]
  },
  {
   "cell_type": "code",
   "execution_count": 7,
   "metadata": {},
   "outputs": [],
   "source": [
    "#encode features vairables\n",
    "X= pd.get_dummies(df[['maint', 'doors', 'lug_boot', 'safety',\n",
    "       'class value']])\n",
    "\n",
    "#reduce number of variable to avoid curse of dimenionality\n",
    "#record which are neither 'lug_boot_big' nor 'lug_boot_med', would naturally be \"lug_boot_small\"\n",
    "X= X[['maint_high', 'maint_low', 'maint_med',  \n",
    "      'doors_2','doors_3', 'doors_4',\n",
    "      'lug_boot_big', 'lug_boot_med', \n",
    "      'safety_high', 'safety_low', \n",
    "      'class value_acc','class value_good', 'class value_unacc']]"
   ]
  },
  {
   "cell_type": "code",
   "execution_count": 8,
   "metadata": {},
   "outputs": [
    {
     "name": "stderr",
     "output_type": "stream",
     "text": [
      "/home/hyphen/miniconda3/lib/python3.9/site-packages/sklearn/preprocessing/_label.py:115: DataConversionWarning: A column-vector y was passed when a 1d array was expected. Please change the shape of y to (n_samples, ), for example using ravel().\n",
      "  y = column_or_1d(y, warn=True)\n"
     ]
    },
    {
     "data": {
      "text/plain": [
       "array([3, 3, 3, ..., 1, 1, 1])"
      ]
     },
     "execution_count": 8,
     "metadata": {},
     "output_type": "execute_result"
    }
   ],
   "source": [
    "#encode target variable\n",
    "le = preprocessing.LabelEncoder()\n",
    "y= le.fit_transform(df[['buying']])\n",
    "y"
   ]
  },
  {
   "cell_type": "code",
   "execution_count": 9,
   "metadata": {},
   "outputs": [],
   "source": [
    "#Train-test split\n",
    "X_train, X_test, y_train, y_test = train_test_split(X, y, random_state = 32, test_size=0.3)"
   ]
  },
  {
   "cell_type": "markdown",
   "metadata": {},
   "source": [
    "# K Nearest Neighbour"
   ]
  },
  {
   "cell_type": "code",
   "execution_count": 10,
   "metadata": {},
   "outputs": [
    {
     "name": "stdout",
     "output_type": "stream",
     "text": [
      "train accuracy is:  0.3680727874276261\n",
      "test accuracy is:  0.2524084778420039\n"
     ]
    }
   ],
   "source": [
    "# training a KNN classifier\n",
    "from sklearn.neighbors import KNeighborsClassifier\n",
    "knn = KNeighborsClassifier(n_neighbors = 20).fit(X_train, y_train)\n",
    "  \n",
    "\n",
    "print(\"train accuracy is: \", knn.score(X_train, y_train))\n",
    "print(\"test accuracy is: \", knn.score(X_test, y_test))\n"
   ]
  },
  {
   "cell_type": "markdown",
   "metadata": {},
   "source": [
    "# SVM"
   ]
  },
  {
   "cell_type": "code",
   "execution_count": 11,
   "metadata": {},
   "outputs": [
    {
     "name": "stdout",
     "output_type": "stream",
     "text": [
      "train accuracy is:  0.37220843672456577\n",
      "test accuracy is:  0.23699421965317918\n"
     ]
    }
   ],
   "source": [
    "from sklearn.svm import SVC\n",
    "svm_model_linear = SVC(kernel = 'poly', C = 0.1).fit(X_train, y_train)\n",
    "svm_model_linear.score(X_train, y_train)\n",
    "\n",
    "\n",
    "print(\"train accuracy is: \", svm_model_linear.score(X_train, y_train))\n",
    "print(\"test accuracy is: \", svm_model_linear.score(X_test, y_test))"
   ]
  },
  {
   "cell_type": "markdown",
   "metadata": {},
   "source": [
    "# Decision Tree"
   ]
  },
  {
   "cell_type": "code",
   "execution_count": 12,
   "metadata": {},
   "outputs": [
    {
     "name": "stdout",
     "output_type": "stream",
     "text": [
      "train accuracy is:  0.32754342431761785\n",
      "test accuracy is:  0.3159922928709056\n"
     ]
    }
   ],
   "source": [
    "# training a DescisionTreeClassifier\n",
    "from sklearn.tree import DecisionTreeClassifier\n",
    "tree_classifier = DecisionTreeClassifier(criterion='gini',max_depth=3, random_state=42)\n",
    "tree_classifier.fit(X_train, y_train)\n",
    "\n",
    "print(\"train accuracy is: \", tree_classifier.score(X_train, y_train))\n",
    "print(\"test accuracy is: \", tree_classifier.score(X_test, y_test))"
   ]
  },
  {
   "cell_type": "markdown",
   "metadata": {},
   "source": [
    "# Comment and evaluation of models"
   ]
  },
  {
   "cell_type": "markdown",
   "metadata": {},
   "source": [
    "1) Decision tree offers the best accuracy of 31.6% on test set and thus will be used to predict the real data.\n",
    "\n",
    "2) F1, precision and recall are not used here as the dataset is pretty balance- same number of y variables in each class\n",
    "\n",
    "3) The random probability of paying 'vhigh' for a car is 25% while our best model accruacy (31%) is only slightly better than guessing. Seems like the condition of the cars can hardly be used to predict the price of the car. We can also say: historically, second hand car buyers did a bad job at valuating the vehical.\n",
    "\n",
    "\n"
   ]
  },
  {
   "cell_type": "markdown",
   "metadata": {},
   "source": [
    "# Actual prediction"
   ]
  },
  {
   "cell_type": "code",
   "execution_count": 13,
   "metadata": {},
   "outputs": [],
   "source": [
    "#Load actual X variables\n",
    "real_x = pd.DataFrame([['high','4', 'big', 'high', 'good']],\n",
    "                   columns=['maint', 'doors', 'lug_boot', 'safety','class value'])\n",
    "\n",
    "#Preprocess the variables\n",
    "real_x= pd.get_dummies(real_x)\n",
    "missing_cols=set(X.columns)-set(real_x.columns)\n",
    "\n",
    "for col in missing_cols:\n",
    "    real_x[col]=0\n",
    "    \n",
    "real_x= real_x[['maint_high', 'maint_low', 'maint_med',  \n",
    "      'doors_2','doors_3', 'doors_4',\n",
    "      'lug_boot_big', 'lug_boot_med', \n",
    "      'safety_high', 'safety_low', \n",
    "      'class value_acc','class value_good', 'class value_unacc']]"
   ]
  },
  {
   "cell_type": "markdown",
   "metadata": {},
   "source": [
    "# Predict real_x variables with decision tree model"
   ]
  },
  {
   "cell_type": "code",
   "execution_count": 16,
   "metadata": {},
   "outputs": [
    {
     "name": "stdout",
     "output_type": "stream",
     "text": [
      "the predicted label is: low\n"
     ]
    }
   ],
   "source": [
    "real_y=tree_classifier.predict(real_x)\n",
    "real_y= le.inverse_transform(real_y)\n",
    "\n",
    "print(\"the predicted label is:\", real_y[0])"
   ]
  },
  {
   "cell_type": "markdown",
   "metadata": {},
   "source": [
    "given:\n",
    "    \n",
    "Maintenance = High\n",
    "Number of doors = 4\n",
    "Lug Boot Size = Big\n",
    "Safety = High\n",
    "Class Value = Good\n",
    "\n",
    "\n",
    "the predicted price is low"
   ]
  },
  {
   "cell_type": "code",
   "execution_count": null,
   "metadata": {},
   "outputs": [],
   "source": []
  }
 ],
 "metadata": {
  "kernelspec": {
   "display_name": "Python 3 (ipykernel)",
   "language": "python",
   "name": "python3"
  },
  "language_info": {
   "codemirror_mode": {
    "name": "ipython",
    "version": 3
   },
   "file_extension": ".py",
   "mimetype": "text/x-python",
   "name": "python",
   "nbconvert_exporter": "python",
   "pygments_lexer": "ipython3",
   "version": "3.9.12"
  }
 },
 "nbformat": 4,
 "nbformat_minor": 4
}
