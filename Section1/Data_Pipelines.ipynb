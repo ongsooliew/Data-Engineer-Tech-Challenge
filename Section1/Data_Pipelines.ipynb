{
 "cells": [
  {
   "cell_type": "code",
   "execution_count": null,
   "id": "6327b5f7",
   "metadata": {},
   "outputs": [],
   "source": [
    "#import libraries\n",
    "import pandas as pd\n",
    "import numpy as np\n",
    "from datetime import datetime\n",
    "\n",
    "timestamp= datetime.utcnow().strftime('%s')\n",
    "\n",
    "#read csv files\n",
    "df1= pd.read_csv(r\"../dataset1.csv\", )\n",
    "df2= pd.read_csv(r\"../dataset2.csv\")\n",
    "\n",
    "#combine into one big df\n",
    "df3= df1.append(df2)\n",
    "df3.reset_index(inplace=True, drop=True)\n",
    "\n",
    "df1.head()"
   ]
  },
  {
   "cell_type": "markdown",
   "id": "a0cb90e2",
   "metadata": {},
   "source": [
    "## Requirement 1: Delete any rows which do not have a name"
   ]
  },
  {
   "cell_type": "code",
   "execution_count": null,
   "id": "1ede4692",
   "metadata": {},
   "outputs": [],
   "source": [
    "df3.dropna(subset=['name'], inplace=True)"
   ]
  },
  {
   "cell_type": "markdown",
   "id": "93593873",
   "metadata": {},
   "source": [
    "## Requirement 2: Split the name field into first_name, and last_name"
   ]
  },
  {
   "cell_type": "code",
   "execution_count": null,
   "id": "c68a59b0",
   "metadata": {},
   "outputs": [],
   "source": [
    "#UDF to split name into first and last name\n",
    "def split_name(name_col):\n",
    "    \n",
    "    not_name=['Mr.', 'Mrs.', 'Miss', 'Ms.', 'Dr.','DVM', 'DDS', 'PhD', 'MD', 'Jr.', 'III', 'II', 'IV']\n",
    "    first_name_col=[]\n",
    "    last_name_col=[]\n",
    "    \n",
    "    #loop through the names in name column\n",
    "    for name in name_col:\n",
    "        #Split name into list of words\n",
    "        name_lst = name.split(' ')\n",
    "        #For list with more than two words, filter out the words found in 'not_name' list\n",
    "        if len(name_lst)>2:\n",
    "            name_lst= [n for n in name_lst if n not in not_name]\n",
    "            #If list still contain more than 2 words after filtering, raise exception to alert data engineer.\n",
    "            #Might be new salutation or title or profession e.g. CFA, CA etc\n",
    "            if len(name_lst)>2:\n",
    "                raise Exception(f\"{name_lst} contain more than two words\")\n",
    "        \n",
    "        #Append first and last name to their respective list\n",
    "        first_name_col.append(name_lst[0])\n",
    "        last_name_col.append(name_lst[1])\n",
    "            \n",
    "    return first_name_col, last_name_col\n",
    "\n"
   ]
  },
  {
   "cell_type": "code",
   "execution_count": null,
   "id": "e32fcb02",
   "metadata": {},
   "outputs": [],
   "source": [
    "df3['first_name'], df3['last_name']=split_name(df3['name'])"
   ]
  },
  {
   "cell_type": "markdown",
   "id": "b4bc2be2",
   "metadata": {},
   "source": [
    "## Requirement 3: Remove any zeros prepended to the price field"
   ]
  },
  {
   "cell_type": "code",
   "execution_count": null,
   "id": "1baa3f58",
   "metadata": {},
   "outputs": [],
   "source": [
    "#Converting the price to float would automatically remove any unnecessary leading zeros\n",
    "df3['price']=df3['price'].astype(float)"
   ]
  },
  {
   "cell_type": "markdown",
   "id": "1e0c37bc",
   "metadata": {},
   "source": [
    "## Requirement 4: Create a new field named above_100, which is true if the price is strictly greater than 100"
   ]
  },
  {
   "cell_type": "code",
   "execution_count": null,
   "id": "883c818c",
   "metadata": {},
   "outputs": [],
   "source": [
    "df3['above_100']=df3['price'].apply(lambda x: 'true' if x> 100 else None)"
   ]
  },
  {
   "cell_type": "markdown",
   "id": "9949e061",
   "metadata": {},
   "source": [
    "## Output result"
   ]
  },
  {
   "cell_type": "code",
   "execution_count": null,
   "id": "e1ea5f9d",
   "metadata": {},
   "outputs": [],
   "source": [
    "df3= df3[['first_name', 'last_name', 'price', 'above_100']]\n",
    "df3.to_csv(f'output/csv_files/{timestamp}.csv', index=False)"
   ]
  },
  {
   "cell_type": "code",
   "execution_count": null,
   "id": "de99c6ac",
   "metadata": {},
   "outputs": [],
   "source": []
  },
  {
   "cell_type": "code",
   "execution_count": null,
   "id": "bf5291a3",
   "metadata": {},
   "outputs": [],
   "source": []
  }
 ],
 "metadata": {
  "kernelspec": {
   "display_name": "Python 3 (ipykernel)",
   "language": "python",
   "name": "python3"
  },
  "language_info": {
   "codemirror_mode": {
    "name": "ipython",
    "version": 3
   },
   "file_extension": ".py",
   "mimetype": "text/x-python",
   "name": "python",
   "nbconvert_exporter": "python",
   "pygments_lexer": "ipython3",
   "version": "3.8.6"
  }
 },
 "nbformat": 4,
 "nbformat_minor": 5
}
