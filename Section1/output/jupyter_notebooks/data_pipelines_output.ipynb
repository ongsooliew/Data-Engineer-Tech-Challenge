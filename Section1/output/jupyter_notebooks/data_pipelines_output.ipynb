{
 "cells": [
  {
   "cell_type": "code",
   "execution_count": 1,
   "id": "6327b5f7",
   "metadata": {
    "execution": {
     "iopub.execute_input": "2022-09-30T19:56:46.676115Z",
     "iopub.status.busy": "2022-09-30T19:56:46.675432Z",
     "iopub.status.idle": "2022-09-30T19:56:47.265036Z",
     "shell.execute_reply": "2022-09-30T19:56:47.264601Z"
    },
    "papermill": {
     "duration": 0.60692,
     "end_time": "2022-09-30T19:56:47.266777",
     "exception": false,
     "start_time": "2022-09-30T19:56:46.659857",
     "status": "completed"
    },
    "tags": []
   },
   "outputs": [
    {
     "data": {
      "text/html": [
       "<div>\n",
       "<style scoped>\n",
       "    .dataframe tbody tr th:only-of-type {\n",
       "        vertical-align: middle;\n",
       "    }\n",
       "\n",
       "    .dataframe tbody tr th {\n",
       "        vertical-align: top;\n",
       "    }\n",
       "\n",
       "    .dataframe thead th {\n",
       "        text-align: right;\n",
       "    }\n",
       "</style>\n",
       "<table border=\"1\" class=\"dataframe\">\n",
       "  <thead>\n",
       "    <tr style=\"text-align: right;\">\n",
       "      <th></th>\n",
       "      <th>name</th>\n",
       "      <th>price</th>\n",
       "    </tr>\n",
       "  </thead>\n",
       "  <tbody>\n",
       "    <tr>\n",
       "      <th>0</th>\n",
       "      <td>William Dixon</td>\n",
       "      <td>109.037280</td>\n",
       "    </tr>\n",
       "    <tr>\n",
       "      <th>1</th>\n",
       "      <td>Kristen Horn</td>\n",
       "      <td>262.524652</td>\n",
       "    </tr>\n",
       "    <tr>\n",
       "      <th>2</th>\n",
       "      <td>Kimberly Chang</td>\n",
       "      <td>187.007258</td>\n",
       "    </tr>\n",
       "    <tr>\n",
       "      <th>3</th>\n",
       "      <td>Mary Ball</td>\n",
       "      <td>283.174648</td>\n",
       "    </tr>\n",
       "    <tr>\n",
       "      <th>4</th>\n",
       "      <td>Benjamin Craig</td>\n",
       "      <td>143.871582</td>\n",
       "    </tr>\n",
       "  </tbody>\n",
       "</table>\n",
       "</div>"
      ],
      "text/plain": [
       "             name       price\n",
       "0   William Dixon  109.037280\n",
       "1    Kristen Horn  262.524652\n",
       "2  Kimberly Chang  187.007258\n",
       "3       Mary Ball  283.174648\n",
       "4  Benjamin Craig  143.871582"
      ]
     },
     "execution_count": 1,
     "metadata": {},
     "output_type": "execute_result"
    }
   ],
   "source": [
    "#import libraries\n",
    "import pandas as pd\n",
    "import numpy as np\n",
    "from datetime import datetime\n",
    "\n",
    "timestamp= datetime.utcnow().strftime('%s')\n",
    "\n",
    "#read csv files\n",
    "df1= pd.read_csv(r\"../dataset1.csv\", )\n",
    "df2= pd.read_csv(r\"../dataset2.csv\")\n",
    "\n",
    "#combine into one big df\n",
    "df3= df1.append(df2)\n",
    "df3.reset_index(inplace=True, drop=True)\n",
    "\n",
    "df1.head()"
   ]
  },
  {
   "cell_type": "markdown",
   "id": "a0cb90e2",
   "metadata": {
    "papermill": {
     "duration": 0.00339,
     "end_time": "2022-09-30T19:56:47.274831",
     "exception": false,
     "start_time": "2022-09-30T19:56:47.271441",
     "status": "completed"
    },
    "tags": []
   },
   "source": [
    "## Requirement 1: Delete any rows which do not have a name"
   ]
  },
  {
   "cell_type": "code",
   "execution_count": 2,
   "id": "1ede4692",
   "metadata": {
    "execution": {
     "iopub.execute_input": "2022-09-30T19:56:47.282146Z",
     "iopub.status.busy": "2022-09-30T19:56:47.281933Z",
     "iopub.status.idle": "2022-09-30T19:56:47.288525Z",
     "shell.execute_reply": "2022-09-30T19:56:47.288141Z"
    },
    "papermill": {
     "duration": 0.011982,
     "end_time": "2022-09-30T19:56:47.290005",
     "exception": false,
     "start_time": "2022-09-30T19:56:47.278023",
     "status": "completed"
    },
    "tags": []
   },
   "outputs": [],
   "source": [
    "df3.dropna(subset=['name'], inplace=True)"
   ]
  },
  {
   "cell_type": "markdown",
   "id": "93593873",
   "metadata": {
    "papermill": {
     "duration": 0.004867,
     "end_time": "2022-09-30T19:56:47.300303",
     "exception": false,
     "start_time": "2022-09-30T19:56:47.295436",
     "status": "completed"
    },
    "tags": []
   },
   "source": [
    "## Requirement 2: Split the name field into first_name, and last_name"
   ]
  },
  {
   "cell_type": "code",
   "execution_count": 3,
   "id": "c68a59b0",
   "metadata": {
    "execution": {
     "iopub.execute_input": "2022-09-30T19:56:47.310779Z",
     "iopub.status.busy": "2022-09-30T19:56:47.310558Z",
     "iopub.status.idle": "2022-09-30T19:56:47.316555Z",
     "shell.execute_reply": "2022-09-30T19:56:47.316091Z"
    },
    "papermill": {
     "duration": 0.012905,
     "end_time": "2022-09-30T19:56:47.317867",
     "exception": false,
     "start_time": "2022-09-30T19:56:47.304962",
     "status": "completed"
    },
    "tags": []
   },
   "outputs": [],
   "source": [
    "#UDF to split name into first and last name\n",
    "def split_name(name_col):\n",
    "    \n",
    "    not_name=['Mr.', 'Mrs.', 'Miss', 'Ms.', 'Dr.','DVM', 'DDS', 'PhD', 'MD', 'Jr.', 'III', 'II', 'IV']\n",
    "    first_name_col=[]\n",
    "    last_name_col=[]\n",
    "    \n",
    "    #loop through the names in name column\n",
    "    for name in name_col:\n",
    "        #Split name into list of words\n",
    "        name_lst = name.split(' ')\n",
    "        #For list with more than two words, filter out the words found in 'not_name' list\n",
    "        if len(name_lst)>2:\n",
    "            name_lst= [n for n in name_lst if n not in not_name]\n",
    "            #If list still contain more than 2 words after filtering, raise exception to alert data engineer.\n",
    "            #Might be new salutation or title or profession e.g. CFA, CA etc\n",
    "            if len(name_lst)>2:\n",
    "                raise Exception(f\"{name_lst} contain more than two words\")\n",
    "        \n",
    "        #Append first and last name to their respective list\n",
    "        first_name_col.append(name_lst[0])\n",
    "        last_name_col.append(name_lst[1])\n",
    "            \n",
    "    return first_name_col, last_name_col\n",
    "\n"
   ]
  },
  {
   "cell_type": "code",
   "execution_count": 4,
   "id": "e32fcb02",
   "metadata": {
    "execution": {
     "iopub.execute_input": "2022-09-30T19:56:47.328921Z",
     "iopub.status.busy": "2022-09-30T19:56:47.328734Z",
     "iopub.status.idle": "2022-09-30T19:56:47.338013Z",
     "shell.execute_reply": "2022-09-30T19:56:47.337610Z"
    },
    "papermill": {
     "duration": 0.015974,
     "end_time": "2022-09-30T19:56:47.339441",
     "exception": false,
     "start_time": "2022-09-30T19:56:47.323467",
     "status": "completed"
    },
    "tags": []
   },
   "outputs": [],
   "source": [
    "df3['first_name'], df3['last_name']=split_name(df3['name'])"
   ]
  },
  {
   "cell_type": "markdown",
   "id": "b4bc2be2",
   "metadata": {
    "papermill": {
     "duration": 0.0056,
     "end_time": "2022-09-30T19:56:47.351580",
     "exception": false,
     "start_time": "2022-09-30T19:56:47.345980",
     "status": "completed"
    },
    "tags": []
   },
   "source": [
    "## Requirement 3: Remove any zeros prepended to the price field"
   ]
  },
  {
   "cell_type": "code",
   "execution_count": 5,
   "id": "1baa3f58",
   "metadata": {
    "execution": {
     "iopub.execute_input": "2022-09-30T19:56:47.363932Z",
     "iopub.status.busy": "2022-09-30T19:56:47.363739Z",
     "iopub.status.idle": "2022-09-30T19:56:47.367400Z",
     "shell.execute_reply": "2022-09-30T19:56:47.367009Z"
    },
    "papermill": {
     "duration": 0.011473,
     "end_time": "2022-09-30T19:56:47.368794",
     "exception": false,
     "start_time": "2022-09-30T19:56:47.357321",
     "status": "completed"
    },
    "tags": []
   },
   "outputs": [],
   "source": [
    "#Converting the price to float would automatically remove any unnecessary leading zeros\n",
    "df3['price']=df3['price'].astype(float)"
   ]
  },
  {
   "cell_type": "markdown",
   "id": "1e0c37bc",
   "metadata": {
    "papermill": {
     "duration": 0.003825,
     "end_time": "2022-09-30T19:56:47.380708",
     "exception": false,
     "start_time": "2022-09-30T19:56:47.376883",
     "status": "completed"
    },
    "tags": []
   },
   "source": [
    "## Requirement 4: Create a new field named above_100, which is true if the price is strictly greater than 100"
   ]
  },
  {
   "cell_type": "code",
   "execution_count": 6,
   "id": "883c818c",
   "metadata": {
    "execution": {
     "iopub.execute_input": "2022-09-30T19:56:47.388530Z",
     "iopub.status.busy": "2022-09-30T19:56:47.388320Z",
     "iopub.status.idle": "2022-09-30T19:56:47.393683Z",
     "shell.execute_reply": "2022-09-30T19:56:47.393301Z"
    },
    "papermill": {
     "duration": 0.011006,
     "end_time": "2022-09-30T19:56:47.395117",
     "exception": false,
     "start_time": "2022-09-30T19:56:47.384111",
     "status": "completed"
    },
    "tags": []
   },
   "outputs": [],
   "source": [
    "df3['above_100']=df3['price'].apply(lambda x: 'true' if x> 100 else None)"
   ]
  },
  {
   "cell_type": "markdown",
   "id": "9949e061",
   "metadata": {
    "papermill": {
     "duration": 0.003325,
     "end_time": "2022-09-30T19:56:47.402059",
     "exception": false,
     "start_time": "2022-09-30T19:56:47.398734",
     "status": "completed"
    },
    "tags": []
   },
   "source": [
    "## Output result"
   ]
  },
  {
   "cell_type": "code",
   "execution_count": 7,
   "id": "e1ea5f9d",
   "metadata": {
    "execution": {
     "iopub.execute_input": "2022-09-30T19:56:47.413338Z",
     "iopub.status.busy": "2022-09-30T19:56:47.413130Z",
     "iopub.status.idle": "2022-09-30T19:56:47.442484Z",
     "shell.execute_reply": "2022-09-30T19:56:47.442065Z"
    },
    "papermill": {
     "duration": 0.0368,
     "end_time": "2022-09-30T19:56:47.443975",
     "exception": false,
     "start_time": "2022-09-30T19:56:47.407175",
     "status": "completed"
    },
    "tags": []
   },
   "outputs": [],
   "source": [
    "df3= df3[['first_name', 'last_name', 'price', 'above_100']]\n",
    "df3.to_csv(f'output/csv_files/{timestamp}.csv', index=False)"
   ]
  },
  {
   "cell_type": "code",
   "execution_count": null,
   "id": "de99c6ac",
   "metadata": {
    "papermill": {
     "duration": 0.005117,
     "end_time": "2022-09-30T19:56:47.455196",
     "exception": false,
     "start_time": "2022-09-30T19:56:47.450079",
     "status": "completed"
    },
    "tags": []
   },
   "outputs": [],
   "source": []
  },
  {
   "cell_type": "code",
   "execution_count": null,
   "id": "bf5291a3",
   "metadata": {
    "papermill": {
     "duration": 0.007159,
     "end_time": "2022-09-30T19:56:47.469187",
     "exception": false,
     "start_time": "2022-09-30T19:56:47.462028",
     "status": "completed"
    },
    "tags": []
   },
   "outputs": [],
   "source": []
  }
 ],
 "metadata": {
  "kernelspec": {
   "display_name": "Python 3 (ipykernel)",
   "language": "python",
   "name": "python3"
  },
  "language_info": {
   "codemirror_mode": {
    "name": "ipython",
    "version": 3
   },
   "file_extension": ".py",
   "mimetype": "text/x-python",
   "name": "python",
   "nbconvert_exporter": "python",
   "pygments_lexer": "ipython3",
   "version": "3.8.6"
  },
  "papermill": {
   "default_parameters": {},
   "duration": 2.821054,
   "end_time": "2022-09-30T19:56:47.693030",
   "environment_variables": {},
   "exception": null,
   "input_path": "Data_Pipelines.ipynb",
   "output_path": "output/jupyter_notebooks/data_pipelines_output.ipynb",
   "parameters": {},
   "start_time": "2022-09-30T19:56:44.871976",
   "version": "2.4.0"
  }
 },
 "nbformat": 4,
 "nbformat_minor": 5
}