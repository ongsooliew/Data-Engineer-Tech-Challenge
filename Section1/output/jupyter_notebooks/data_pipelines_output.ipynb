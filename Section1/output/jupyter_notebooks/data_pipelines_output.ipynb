{
 "cells": [
  {
   "cell_type": "code",
   "execution_count": 1,
   "id": "6327b5f7",
   "metadata": {
    "execution": {
     "iopub.execute_input": "2022-10-01T07:17:02.798772Z",
     "iopub.status.busy": "2022-10-01T07:17:02.796295Z",
     "iopub.status.idle": "2022-10-01T07:17:03.258939Z",
     "shell.execute_reply": "2022-10-01T07:17:03.258254Z"
    },
    "papermill": {
     "duration": 0.472578,
     "end_time": "2022-10-01T07:17:03.261104",
     "exception": false,
     "start_time": "2022-10-01T07:17:02.788526",
     "status": "completed"
    },
    "tags": []
   },
   "outputs": [
    {
     "name": "stderr",
     "output_type": "stream",
     "text": [
      "<ipython-input-1-68e716223b7f>:13: FutureWarning: The frame.append method is deprecated and will be removed from pandas in a future version. Use pandas.concat instead.\n",
      "  df3= df1.append(df2)\n"
     ]
    },
    {
     "data": {
      "text/html": [
       "<div>\n",
       "<style scoped>\n",
       "    .dataframe tbody tr th:only-of-type {\n",
       "        vertical-align: middle;\n",
       "    }\n",
       "\n",
       "    .dataframe tbody tr th {\n",
       "        vertical-align: top;\n",
       "    }\n",
       "\n",
       "    .dataframe thead th {\n",
       "        text-align: right;\n",
       "    }\n",
       "</style>\n",
       "<table border=\"1\" class=\"dataframe\">\n",
       "  <thead>\n",
       "    <tr style=\"text-align: right;\">\n",
       "      <th></th>\n",
       "      <th>name</th>\n",
       "      <th>price</th>\n",
       "    </tr>\n",
       "  </thead>\n",
       "  <tbody>\n",
       "    <tr>\n",
       "      <th>0</th>\n",
       "      <td>William Dixon</td>\n",
       "      <td>109.037280</td>\n",
       "    </tr>\n",
       "    <tr>\n",
       "      <th>1</th>\n",
       "      <td>Kristen Horn</td>\n",
       "      <td>262.524652</td>\n",
       "    </tr>\n",
       "    <tr>\n",
       "      <th>2</th>\n",
       "      <td>Kimberly Chang</td>\n",
       "      <td>187.007258</td>\n",
       "    </tr>\n",
       "    <tr>\n",
       "      <th>3</th>\n",
       "      <td>Mary Ball</td>\n",
       "      <td>283.174648</td>\n",
       "    </tr>\n",
       "    <tr>\n",
       "      <th>4</th>\n",
       "      <td>Benjamin Craig</td>\n",
       "      <td>143.871582</td>\n",
       "    </tr>\n",
       "  </tbody>\n",
       "</table>\n",
       "</div>"
      ],
      "text/plain": [
       "             name       price\n",
       "0   William Dixon  109.037280\n",
       "1    Kristen Horn  262.524652\n",
       "2  Kimberly Chang  187.007258\n",
       "3       Mary Ball  283.174648\n",
       "4  Benjamin Craig  143.871582"
      ]
     },
     "execution_count": 1,
     "metadata": {},
     "output_type": "execute_result"
    }
   ],
   "source": [
    "#import libraries\n",
    "import pandas as pd\n",
    "import numpy as np\n",
    "from datetime import datetime\n",
    "\n",
    "timestamp= datetime.utcnow().strftime('%s')\n",
    "\n",
    "#read csv files\n",
    "df1= pd.read_csv(r\"../dataset1.csv\", )\n",
    "df2= pd.read_csv(r\"../dataset2.csv\")\n",
    "\n",
    "#combine into one big df\n",
    "df3= df1.append(df2)\n",
    "df3.reset_index(inplace=True, drop=True)\n",
    "\n",
    "df1.head()"
   ]
  },
  {
   "cell_type": "markdown",
   "id": "a0cb90e2",
   "metadata": {
    "papermill": {
     "duration": 0.018442,
     "end_time": "2022-10-01T07:17:03.285165",
     "exception": false,
     "start_time": "2022-10-01T07:17:03.266723",
     "status": "completed"
    },
    "tags": []
   },
   "source": [
    "## Requirement 1: Delete any rows which do not have a name"
   ]
  },
  {
   "cell_type": "code",
   "execution_count": 2,
   "id": "1ede4692",
   "metadata": {
    "execution": {
     "iopub.execute_input": "2022-10-01T07:17:03.299592Z",
     "iopub.status.busy": "2022-10-01T07:17:03.299111Z",
     "iopub.status.idle": "2022-10-01T07:17:03.312156Z",
     "shell.execute_reply": "2022-10-01T07:17:03.311235Z"
    },
    "papermill": {
     "duration": 0.025472,
     "end_time": "2022-10-01T07:17:03.314223",
     "exception": false,
     "start_time": "2022-10-01T07:17:03.288751",
     "status": "completed"
    },
    "tags": []
   },
   "outputs": [],
   "source": [
    "df3.dropna(subset=['name'], inplace=True)"
   ]
  },
  {
   "cell_type": "markdown",
   "id": "93593873",
   "metadata": {
    "papermill": {
     "duration": 0.004031,
     "end_time": "2022-10-01T07:17:03.322285",
     "exception": false,
     "start_time": "2022-10-01T07:17:03.318254",
     "status": "completed"
    },
    "tags": []
   },
   "source": [
    "## Requirement 2: Split the name field into first_name, and last_name"
   ]
  },
  {
   "cell_type": "code",
   "execution_count": 3,
   "id": "c68a59b0",
   "metadata": {
    "execution": {
     "iopub.execute_input": "2022-10-01T07:17:03.330000Z",
     "iopub.status.busy": "2022-10-01T07:17:03.329722Z",
     "iopub.status.idle": "2022-10-01T07:17:03.336234Z",
     "shell.execute_reply": "2022-10-01T07:17:03.334958Z"
    },
    "papermill": {
     "duration": 0.012811,
     "end_time": "2022-10-01T07:17:03.338131",
     "exception": false,
     "start_time": "2022-10-01T07:17:03.325320",
     "status": "completed"
    },
    "tags": []
   },
   "outputs": [],
   "source": [
    "#UDF to split name into first and last name\n",
    "def split_name(name_col):\n",
    "    \n",
    "    not_name=['Mr.', 'Mrs.', 'Miss', 'Ms.', 'Dr.','DVM', 'DDS', 'PhD', 'MD', 'Jr.', 'III', 'II', 'IV']\n",
    "    first_name_col=[]\n",
    "    last_name_col=[]\n",
    "    \n",
    "    #loop through the names in name column\n",
    "    for name in name_col:\n",
    "        #Split name into list of words\n",
    "        name_lst = name.split(' ')\n",
    "        #For list with more than two words, filter out the words found in 'not_name' list\n",
    "        if len(name_lst)>2:\n",
    "            name_lst= [n for n in name_lst if n not in not_name]\n",
    "            #If list still contain more than 2 words after filtering, raise exception to alert data engineer.\n",
    "            #Might be new salutation or title or profession e.g. CFA, CA etc\n",
    "            if len(name_lst)>2:\n",
    "                raise Exception(f\"{name_lst} contain more than two words\")\n",
    "        \n",
    "        #Append first and last name to their respective list\n",
    "        first_name_col.append(name_lst[0])\n",
    "        last_name_col.append(name_lst[1])\n",
    "            \n",
    "    return first_name_col, last_name_col\n",
    "\n"
   ]
  },
  {
   "cell_type": "code",
   "execution_count": 4,
   "id": "e32fcb02",
   "metadata": {
    "execution": {
     "iopub.execute_input": "2022-10-01T07:17:03.350003Z",
     "iopub.status.busy": "2022-10-01T07:17:03.349601Z",
     "iopub.status.idle": "2022-10-01T07:17:03.367592Z",
     "shell.execute_reply": "2022-10-01T07:17:03.366647Z"
    },
    "papermill": {
     "duration": 0.026746,
     "end_time": "2022-10-01T07:17:03.369497",
     "exception": false,
     "start_time": "2022-10-01T07:17:03.342751",
     "status": "completed"
    },
    "tags": []
   },
   "outputs": [],
   "source": [
    "df3['first_name'], df3['last_name']=split_name(df3['name'])"
   ]
  },
  {
   "cell_type": "markdown",
   "id": "b4bc2be2",
   "metadata": {
    "papermill": {
     "duration": 0.003472,
     "end_time": "2022-10-01T07:17:03.376669",
     "exception": false,
     "start_time": "2022-10-01T07:17:03.373197",
     "status": "completed"
    },
    "tags": []
   },
   "source": [
    "## Requirement 3: Remove any zeros prepended to the price field"
   ]
  },
  {
   "cell_type": "code",
   "execution_count": 5,
   "id": "1baa3f58",
   "metadata": {
    "execution": {
     "iopub.execute_input": "2022-10-01T07:17:03.385623Z",
     "iopub.status.busy": "2022-10-01T07:17:03.385177Z",
     "iopub.status.idle": "2022-10-01T07:17:03.392395Z",
     "shell.execute_reply": "2022-10-01T07:17:03.391536Z"
    },
    "papermill": {
     "duration": 0.014776,
     "end_time": "2022-10-01T07:17:03.394906",
     "exception": false,
     "start_time": "2022-10-01T07:17:03.380130",
     "status": "completed"
    },
    "tags": []
   },
   "outputs": [],
   "source": [
    "#Converting the price to float would automatically remove any unnecessary leading zeros\n",
    "df3['price']=df3['price'].astype(float)"
   ]
  },
  {
   "cell_type": "markdown",
   "id": "1e0c37bc",
   "metadata": {
    "papermill": {
     "duration": 0.005552,
     "end_time": "2022-10-01T07:17:03.405673",
     "exception": false,
     "start_time": "2022-10-01T07:17:03.400121",
     "status": "completed"
    },
    "tags": []
   },
   "source": [
    "## Requirement 4: Create a new field named above_100, which is true if the price is strictly greater than 100"
   ]
  },
  {
   "cell_type": "code",
   "execution_count": 6,
   "id": "883c818c",
   "metadata": {
    "execution": {
     "iopub.execute_input": "2022-10-01T07:17:03.418455Z",
     "iopub.status.busy": "2022-10-01T07:17:03.418117Z",
     "iopub.status.idle": "2022-10-01T07:17:03.425784Z",
     "shell.execute_reply": "2022-10-01T07:17:03.424989Z"
    },
    "papermill": {
     "duration": 0.0172,
     "end_time": "2022-10-01T07:17:03.428341",
     "exception": false,
     "start_time": "2022-10-01T07:17:03.411141",
     "status": "completed"
    },
    "tags": []
   },
   "outputs": [],
   "source": [
    "df3['above_100']=df3['price'].apply(lambda x: 'true' if x> 100 else None)"
   ]
  },
  {
   "cell_type": "markdown",
   "id": "9949e061",
   "metadata": {
    "papermill": {
     "duration": 0.003451,
     "end_time": "2022-10-01T07:17:03.435225",
     "exception": false,
     "start_time": "2022-10-01T07:17:03.431774",
     "status": "completed"
    },
    "tags": []
   },
   "source": [
    "## Output result"
   ]
  },
  {
   "cell_type": "code",
   "execution_count": 7,
   "id": "e1ea5f9d",
   "metadata": {
    "execution": {
     "iopub.execute_input": "2022-10-01T07:17:03.443867Z",
     "iopub.status.busy": "2022-10-01T07:17:03.443537Z",
     "iopub.status.idle": "2022-10-01T07:17:03.494243Z",
     "shell.execute_reply": "2022-10-01T07:17:03.493554Z"
    },
    "papermill": {
     "duration": 0.057811,
     "end_time": "2022-10-01T07:17:03.496589",
     "exception": false,
     "start_time": "2022-10-01T07:17:03.438778",
     "status": "completed"
    },
    "tags": []
   },
   "outputs": [],
   "source": [
    "df3= df3[['first_name', 'last_name', 'price', 'above_100']]\n",
    "df3.to_csv(f'output/csv_files/{timestamp}.csv', index=False)"
   ]
  },
  {
   "cell_type": "code",
   "execution_count": null,
   "id": "de99c6ac",
   "metadata": {
    "papermill": {
     "duration": 0.00554,
     "end_time": "2022-10-01T07:17:03.507173",
     "exception": false,
     "start_time": "2022-10-01T07:17:03.501633",
     "status": "completed"
    },
    "tags": []
   },
   "outputs": [],
   "source": []
  },
  {
   "cell_type": "code",
   "execution_count": null,
   "id": "bf5291a3",
   "metadata": {
    "papermill": {
     "duration": 0.006354,
     "end_time": "2022-10-01T07:17:03.518203",
     "exception": false,
     "start_time": "2022-10-01T07:17:03.511849",
     "status": "completed"
    },
    "tags": []
   },
   "outputs": [],
   "source": []
  }
 ],
 "metadata": {
  "kernelspec": {
   "display_name": "Python 3 (ipykernel)",
   "language": "python",
   "name": "python3"
  },
  "language_info": {
   "codemirror_mode": {
    "name": "ipython",
    "version": 3
   },
   "file_extension": ".py",
   "mimetype": "text/x-python",
   "name": "python",
   "nbconvert_exporter": "python",
   "pygments_lexer": "ipython3",
   "version": "3.8.10"
  },
  "papermill": {
   "default_parameters": {},
   "duration": 1.94287,
   "end_time": "2022-10-01T07:17:03.843213",
   "environment_variables": {},
   "exception": null,
   "input_path": "Data_Pipelines.ipynb",
   "output_path": "output/jupyter_notebooks/data_pipelines_output.ipynb",
   "parameters": {},
   "start_time": "2022-10-01T07:17:01.900343",
   "version": "2.4.0"
  }
 },
 "nbformat": 4,
 "nbformat_minor": 5
}